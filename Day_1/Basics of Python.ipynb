{
 "cells": [
  {
   "cell_type": "markdown",
   "id": "6a9ef417-5a1e-45b2-b76a-61d4f2f9866d",
   "metadata": {},
   "source": [
    "## New Project"
   ]
  },
  {
   "cell_type": "markdown",
   "id": "fd5bb028-5fc8-4d3b-baa3-15531f871600",
   "metadata": {},
   "source": [
    "### Variables"
   ]
  },
  {
   "cell_type": "code",
   "execution_count": 2,
   "id": "d62d5535-c465-4158-be16-0f976b271119",
   "metadata": {},
   "outputs": [],
   "source": [
    "a = 10"
   ]
  },
  {
   "cell_type": "code",
   "execution_count": 3,
   "id": "e3a90b54-895d-47ff-8d2d-d682bcd7a91b",
   "metadata": {},
   "outputs": [
    {
     "data": {
      "text/plain": [
       "int"
      ]
     },
     "execution_count": 3,
     "metadata": {},
     "output_type": "execute_result"
    }
   ],
   "source": [
    "type(a)"
   ]
  },
  {
   "cell_type": "code",
   "execution_count": 4,
   "id": "1cd5008e-f704-49b4-adc3-2ccb3a909a71",
   "metadata": {},
   "outputs": [
    {
     "name": "stdout",
     "output_type": "stream",
     "text": [
      "10.4 <class 'float'>\n"
     ]
    }
   ],
   "source": [
    "a = 10.4\n",
    "print(a, type(a))"
   ]
  },
  {
   "cell_type": "code",
   "execution_count": 5,
   "id": "cec7e9cf-64a2-447a-bf1c-c5d0994f820f",
   "metadata": {},
   "outputs": [],
   "source": [
    "str2 = \"Hello\""
   ]
  },
  {
   "cell_type": "code",
   "execution_count": 6,
   "id": "d0d253be-a014-4df2-95e7-ce8707b7c24e",
   "metadata": {},
   "outputs": [
    {
     "name": "stdout",
     "output_type": "stream",
     "text": [
      "Hello\n"
     ]
    }
   ],
   "source": [
    "print(str2)"
   ]
  },
  {
   "cell_type": "code",
   "execution_count": 7,
   "id": "6027ec55-c516-48fa-b24f-45f13a2a43a2",
   "metadata": {},
   "outputs": [
    {
     "data": {
      "text/plain": [
       "str"
      ]
     },
     "execution_count": 7,
     "metadata": {},
     "output_type": "execute_result"
    }
   ],
   "source": [
    "type(str2)"
   ]
  },
  {
   "cell_type": "markdown",
   "id": "c05a3a4f-cc19-4367-829a-033167620a68",
   "metadata": {},
   "source": [
    "### Numbers"
   ]
  },
  {
   "cell_type": "code",
   "execution_count": 9,
   "id": "fa2524a5-ceed-4613-85a7-1382e00ca116",
   "metadata": {},
   "outputs": [
    {
     "name": "stdout",
     "output_type": "stream",
     "text": [
      "10 <class 'int'>\n"
     ]
    }
   ],
   "source": [
    "n = 10\n",
    "print(n, type(n))"
   ]
  },
  {
   "cell_type": "code",
   "execution_count": 10,
   "id": "c71906eb-3033-4cab-93c2-9597c82b0455",
   "metadata": {},
   "outputs": [
    {
     "name": "stdout",
     "output_type": "stream",
     "text": [
      "11\n"
     ]
    }
   ],
   "source": [
    "print(n + 1)"
   ]
  },
  {
   "cell_type": "code",
   "execution_count": 11,
   "id": "5c298267-e560-490b-add0-11a3cd9da90b",
   "metadata": {},
   "outputs": [
    {
     "name": "stdout",
     "output_type": "stream",
     "text": [
      "9\n"
     ]
    }
   ],
   "source": [
    "print(n - 1)"
   ]
  },
  {
   "cell_type": "code",
   "execution_count": 12,
   "id": "115cdc68-4112-42d3-a385-580d64bdca0a",
   "metadata": {},
   "outputs": [
    {
     "name": "stdout",
     "output_type": "stream",
     "text": [
      "10.0\n"
     ]
    }
   ],
   "source": [
    "print(n / 1)"
   ]
  },
  {
   "cell_type": "code",
   "execution_count": 14,
   "id": "dc433181-c876-4026-bae7-ccd9af86c49b",
   "metadata": {},
   "outputs": [
    {
     "name": "stdout",
     "output_type": "stream",
     "text": [
      "5\n"
     ]
    }
   ],
   "source": [
    "print(11 // 2)"
   ]
  },
  {
   "cell_type": "code",
   "execution_count": 15,
   "id": "d26f2797-f3fa-4fec-a285-da017ef81951",
   "metadata": {},
   "outputs": [
    {
     "name": "stdout",
     "output_type": "stream",
     "text": [
      "10\n"
     ]
    }
   ],
   "source": [
    "print(n * 1)"
   ]
  },
  {
   "cell_type": "code",
   "execution_count": 16,
   "id": "1f08f481-5ebc-4959-999b-cd60b2c082df",
   "metadata": {},
   "outputs": [],
   "source": [
    "m = 5.16"
   ]
  },
  {
   "cell_type": "code",
   "execution_count": 17,
   "id": "4a3993ab-a874-4eae-b460-78b20e0eafd1",
   "metadata": {},
   "outputs": [
    {
     "name": "stdout",
     "output_type": "stream",
     "text": [
      "5.16 <class 'float'>\n"
     ]
    }
   ],
   "source": [
    "print(m, type(m))"
   ]
  },
  {
   "cell_type": "code",
   "execution_count": 18,
   "id": "3c2f8de3-05de-4849-bb1e-ced1a406e33c",
   "metadata": {},
   "outputs": [
    {
     "name": "stdout",
     "output_type": "stream",
     "text": [
      "6.16\n"
     ]
    }
   ],
   "source": [
    "print(m + 1)"
   ]
  },
  {
   "cell_type": "code",
   "execution_count": 19,
   "id": "9eff42a7-3d13-45fe-b430-37c2d5fd35b4",
   "metadata": {},
   "outputs": [
    {
     "name": "stdout",
     "output_type": "stream",
     "text": [
      "4.16\n"
     ]
    }
   ],
   "source": [
    "print(m - 1)"
   ]
  },
  {
   "cell_type": "code",
   "execution_count": 20,
   "id": "81e783f6-35a9-4e24-8650-61e6a8fd5eb6",
   "metadata": {},
   "outputs": [
    {
     "name": "stdout",
     "output_type": "stream",
     "text": [
      "10.32\n"
     ]
    }
   ],
   "source": [
    "print(m * 2)"
   ]
  },
  {
   "cell_type": "code",
   "execution_count": 21,
   "id": "8380430f-30f1-421a-aa7c-9b06bb9393f0",
   "metadata": {},
   "outputs": [
    {
     "name": "stdout",
     "output_type": "stream",
     "text": [
      "2.58\n"
     ]
    }
   ],
   "source": [
    "print(m / 2)"
   ]
  },
  {
   "cell_type": "markdown",
   "id": "ae2a0052-49d3-470b-ba56-76e538a9a3e4",
   "metadata": {},
   "source": [
    "### Boolean"
   ]
  },
  {
   "cell_type": "markdown",
   "id": "2e5fcb3f-63ac-4ea8-8d43-179d61955bc9",
   "metadata": {},
   "source": [
    "( && == AND . || == OR ) other programming language"
   ]
  },
  {
   "cell_type": "code",
   "execution_count": 22,
   "id": "478074f9-c9f5-47d8-9996-98697c3cdb6a",
   "metadata": {},
   "outputs": [],
   "source": [
    "t, f = True, False"
   ]
  },
  {
   "cell_type": "code",
   "execution_count": 23,
   "id": "6ee9a83a-ea63-414a-a333-b4c0192e6dbc",
   "metadata": {},
   "outputs": [
    {
     "data": {
      "text/plain": [
       "False"
      ]
     },
     "execution_count": 23,
     "metadata": {},
     "output_type": "execute_result"
    }
   ],
   "source": [
    "(t and f)"
   ]
  },
  {
   "cell_type": "code",
   "execution_count": 24,
   "id": "3f8e2f30-2cf5-411d-9b7d-61380f136d39",
   "metadata": {},
   "outputs": [
    {
     "data": {
      "text/plain": [
       "True"
      ]
     },
     "execution_count": 24,
     "metadata": {},
     "output_type": "execute_result"
    }
   ],
   "source": [
    "(t or f)"
   ]
  },
  {
   "cell_type": "code",
   "execution_count": 26,
   "id": "f5ce7aea-2bb2-4b90-98c8-3e15556ae9e6",
   "metadata": {},
   "outputs": [
    {
     "data": {
      "text/plain": [
       "True"
      ]
     },
     "execution_count": 26,
     "metadata": {},
     "output_type": "execute_result"
    }
   ],
   "source": [
    "( t ^ f)"
   ]
  },
  {
   "cell_type": "markdown",
   "id": "516060d7-05c8-40de-abbb-8477445eb735",
   "metadata": {},
   "source": [
    "### Strings"
   ]
  },
  {
   "cell_type": "code",
   "execution_count": 28,
   "id": "6fb61462-a141-4218-aca6-349f7bd95334",
   "metadata": {},
   "outputs": [],
   "source": [
    "a = \"Hello\""
   ]
  },
  {
   "cell_type": "code",
   "execution_count": 30,
   "id": "693baf5b-170c-4b4c-a78a-0e851a241e44",
   "metadata": {},
   "outputs": [
    {
     "name": "stdout",
     "output_type": "stream",
     "text": [
      "Hello <class 'str'>\n"
     ]
    }
   ],
   "source": [
    "print(a, type(a))"
   ]
  },
  {
   "cell_type": "code",
   "execution_count": 31,
   "id": "e181efa0-890c-4cfb-9fca-eb3024458348",
   "metadata": {},
   "outputs": [],
   "source": [
    "b = \"World\""
   ]
  },
  {
   "cell_type": "code",
   "execution_count": 32,
   "id": "1b6bf865-a66e-45d0-8f91-ca9cd3b19c4f",
   "metadata": {},
   "outputs": [
    {
     "name": "stdout",
     "output_type": "stream",
     "text": [
      "World <class 'str'>\n"
     ]
    }
   ],
   "source": [
    "print(b, type(b))"
   ]
  },
  {
   "cell_type": "code",
   "execution_count": 35,
   "id": "a1061ddc-3e39-4855-81c6-e7f4e0d308df",
   "metadata": {},
   "outputs": [
    {
     "name": "stdout",
     "output_type": "stream",
     "text": [
      "Hello World\n"
     ]
    }
   ],
   "source": [
    "print(a + ' ' + b)"
   ]
  },
  {
   "cell_type": "code",
   "execution_count": 38,
   "id": "3dfb97ac-148d-4c01-8cd3-b74654ea72a3",
   "metadata": {},
   "outputs": [
    {
     "name": "stdout",
     "output_type": "stream",
     "text": [
      "Hello , World\n"
     ]
    }
   ],
   "source": [
    "print(a, ',',b)"
   ]
  },
  {
   "cell_type": "code",
   "execution_count": 39,
   "id": "cbe6eb2d-f236-4774-8e91-0842edf77a66",
   "metadata": {},
   "outputs": [],
   "source": [
    "format = '{} {} {}'.format(a, \",\", b)"
   ]
  },
  {
   "cell_type": "code",
   "execution_count": 40,
   "id": "69f47cb0-401d-4ffe-afdd-ece5e02165f0",
   "metadata": {},
   "outputs": [
    {
     "name": "stdout",
     "output_type": "stream",
     "text": [
      "Hello , World\n"
     ]
    }
   ],
   "source": [
    "print(format)"
   ]
  },
  {
   "cell_type": "code",
   "execution_count": 41,
   "id": "99ec08ff-605c-4a41-8cef-a5e199237656",
   "metadata": {},
   "outputs": [],
   "source": [
    "text = \"hello world python\""
   ]
  },
  {
   "cell_type": "code",
   "execution_count": 42,
   "id": "74e39ba7-0784-411a-a865-ba74d91d2c2f",
   "metadata": {},
   "outputs": [
    {
     "name": "stdout",
     "output_type": "stream",
     "text": [
      "HELLO WORLD PYTHON\n"
     ]
    }
   ],
   "source": [
    "print(text.upper())"
   ]
  },
  {
   "cell_type": "code",
   "execution_count": 43,
   "id": "5d3b76c3-2d41-4f30-932f-0c521c4416ce",
   "metadata": {},
   "outputs": [
    {
     "name": "stdout",
     "output_type": "stream",
     "text": [
      "hello world python\n"
     ]
    }
   ],
   "source": [
    "print(text.lower()) "
   ]
  },
  {
   "cell_type": "code",
   "execution_count": 44,
   "id": "15ab8e6a-0bbc-40ca-8031-1651cc57ab4a",
   "metadata": {},
   "outputs": [
    {
     "name": "stdout",
     "output_type": "stream",
     "text": [
      "Hello World Python\n"
     ]
    }
   ],
   "source": [
    "print(text.title()) "
   ]
  },
  {
   "cell_type": "code",
   "execution_count": 45,
   "id": "69f9f618-7e6b-40dd-9c4b-656f5a047b92",
   "metadata": {},
   "outputs": [
    {
     "name": "stdout",
     "output_type": "stream",
     "text": [
      "Hello world python\n"
     ]
    }
   ],
   "source": [
    "print(text.capitalize())"
   ]
  },
  {
   "cell_type": "code",
   "execution_count": 46,
   "id": "0cb9941f-4f42-48e0-b02a-30f93dc29f98",
   "metadata": {},
   "outputs": [],
   "source": [
    "text = \"I like cats. Cats are cute.\""
   ]
  },
  {
   "cell_type": "code",
   "execution_count": 47,
   "id": "88b231a6-3d96-4d32-9915-a9876d2bdf87",
   "metadata": {},
   "outputs": [
    {
     "name": "stdout",
     "output_type": "stream",
     "text": [
      "I like dogs. Cats are cute.\n"
     ]
    }
   ],
   "source": [
    "print(text.replace(\"cats\", \"dogs\"))"
   ]
  },
  {
   "cell_type": "code",
   "execution_count": 48,
   "id": "0d375a0c-0d3f-4195-8ee4-be2d9980724e",
   "metadata": {},
   "outputs": [],
   "source": [
    "text = \"   hello world   \""
   ]
  },
  {
   "cell_type": "code",
   "execution_count": 49,
   "id": "c349ae48-dea8-4c4c-b233-5d0c0c456a65",
   "metadata": {},
   "outputs": [
    {
     "name": "stdout",
     "output_type": "stream",
     "text": [
      "hello world\n"
     ]
    }
   ],
   "source": [
    "print(text.strip())   "
   ]
  },
  {
   "cell_type": "code",
   "execution_count": 50,
   "id": "90ab2437-7e33-43d3-9b9b-1171a320b46c",
   "metadata": {},
   "outputs": [
    {
     "name": "stdout",
     "output_type": "stream",
     "text": [
      "hello world   \n"
     ]
    }
   ],
   "source": [
    "print(text.lstrip())  "
   ]
  },
  {
   "cell_type": "code",
   "execution_count": 51,
   "id": "9b7fa061-ec02-4dec-a6b6-ecb5edf545f2",
   "metadata": {},
   "outputs": [
    {
     "name": "stdout",
     "output_type": "stream",
     "text": [
      "   hello world\n"
     ]
    }
   ],
   "source": [
    "print(text.rstrip()) "
   ]
  },
  {
   "cell_type": "markdown",
   "id": "1182598c-84c6-49d9-847e-9a298c04b43c",
   "metadata": {},
   "source": [
    "### Containers"
   ]
  },
  {
   "cell_type": "markdown",
   "id": "2eeb6385-6c54-4341-8665-88215d701cae",
   "metadata": {},
   "source": [
    "### List"
   ]
  },
  {
   "cell_type": "code",
   "execution_count": 53,
   "id": "a20f2ee0-668d-4bca-a5b0-459bc00e2c7c",
   "metadata": {},
   "outputs": [],
   "source": [
    "fruits = ['apple', 'banana']"
   ]
  },
  {
   "cell_type": "code",
   "execution_count": 54,
   "id": "8f054b91-81d4-4571-87d7-7e34b525d77c",
   "metadata": {},
   "outputs": [],
   "source": [
    "fruits.append('cherry')"
   ]
  },
  {
   "cell_type": "code",
   "execution_count": 55,
   "id": "0c2edd43-a687-4193-9731-aff531fb50e3",
   "metadata": {},
   "outputs": [
    {
     "name": "stdout",
     "output_type": "stream",
     "text": [
      "['apple', 'banana', 'cherry']\n"
     ]
    }
   ],
   "source": [
    "print(fruits)"
   ]
  },
  {
   "cell_type": "code",
   "execution_count": 56,
   "id": "9d7a14a4-4c77-4810-9e91-1d0f8c78e5a7",
   "metadata": {},
   "outputs": [],
   "source": [
    "numbers = [1, 2, 3]"
   ]
  },
  {
   "cell_type": "code",
   "execution_count": 57,
   "id": "7dfc7ec1-9366-449a-b735-3b2fb3959d92",
   "metadata": {},
   "outputs": [],
   "source": [
    "numbers.append(4)"
   ]
  },
  {
   "cell_type": "code",
   "execution_count": 58,
   "id": "35020b8b-5f94-484c-b1a8-93635002e938",
   "metadata": {},
   "outputs": [
    {
     "name": "stdout",
     "output_type": "stream",
     "text": [
      "[1, 2, 3, 4]\n"
     ]
    }
   ],
   "source": [
    "print(numbers)"
   ]
  },
  {
   "cell_type": "code",
   "execution_count": 59,
   "id": "af8fb173-9c4f-444e-b00f-8b93ab43dc00",
   "metadata": {},
   "outputs": [],
   "source": [
    "numbers.append([5, 6])"
   ]
  },
  {
   "cell_type": "code",
   "execution_count": 60,
   "id": "70151e68-3751-4904-b65a-a7754d5006cd",
   "metadata": {},
   "outputs": [
    {
     "name": "stdout",
     "output_type": "stream",
     "text": [
      "[1, 2, 3, 4, [5, 6]]\n"
     ]
    }
   ],
   "source": [
    "print(numbers)"
   ]
  },
  {
   "cell_type": "code",
   "execution_count": 61,
   "id": "425b87fa-ac28-4788-aee5-66bd06851aab",
   "metadata": {},
   "outputs": [
    {
     "data": {
      "text/plain": [
       "4"
      ]
     },
     "execution_count": 61,
     "metadata": {},
     "output_type": "execute_result"
    }
   ],
   "source": [
    "numbers[-2]"
   ]
  },
  {
   "cell_type": "code",
   "execution_count": 63,
   "id": "e4d556e1-0748-48b5-b680-3e17bea8c27d",
   "metadata": {},
   "outputs": [
    {
     "data": {
      "text/plain": [
       "3"
      ]
     },
     "execution_count": 63,
     "metadata": {},
     "output_type": "execute_result"
    }
   ],
   "source": [
    "numbers[2]"
   ]
  },
  {
   "cell_type": "code",
   "execution_count": 64,
   "id": "4a08aac7-6870-474a-9ac3-1604096e3ffa",
   "metadata": {},
   "outputs": [
    {
     "data": {
      "text/plain": [
       "3"
      ]
     },
     "execution_count": 64,
     "metadata": {},
     "output_type": "execute_result"
    }
   ],
   "source": [
    "numbers[-3]"
   ]
  },
  {
   "cell_type": "code",
   "execution_count": 66,
   "id": "875d7e32-909f-4bcd-94f4-fa09b3ac70df",
   "metadata": {},
   "outputs": [],
   "source": [
    "numbers.remove(2)"
   ]
  },
  {
   "cell_type": "code",
   "execution_count": 67,
   "id": "6ce80b24-0f81-46db-989e-b3aaf829ee95",
   "metadata": {},
   "outputs": [
    {
     "name": "stdout",
     "output_type": "stream",
     "text": [
      "[1, 3, 4, [5, 6]]\n"
     ]
    }
   ],
   "source": [
    "print(numbers)"
   ]
  },
  {
   "cell_type": "code",
   "execution_count": 68,
   "id": "09d756a5-7e6a-49f2-8f88-e2ea470566d9",
   "metadata": {},
   "outputs": [
    {
     "data": {
      "text/plain": [
       "[3, 4]"
      ]
     },
     "execution_count": 68,
     "metadata": {},
     "output_type": "execute_result"
    }
   ],
   "source": [
    "numbers[1:3]"
   ]
  },
  {
   "cell_type": "code",
   "execution_count": 69,
   "id": "c34f0036-ad3e-48d3-bc3c-14db9e15f9dd",
   "metadata": {},
   "outputs": [
    {
     "data": {
      "text/plain": [
       "[[5, 6], 4, 3, 1]"
      ]
     },
     "execution_count": 69,
     "metadata": {},
     "output_type": "execute_result"
    }
   ],
   "source": [
    "numbers[::-1]"
   ]
  },
  {
   "cell_type": "code",
   "execution_count": 70,
   "id": "4e172c6a-ca72-481c-af46-c228b6ebc41f",
   "metadata": {},
   "outputs": [],
   "source": [
    "animals = [\"Donkey\", \"Monkey\", \"Panda\", \"Cat\", \"Dog\"]"
   ]
  },
  {
   "cell_type": "code",
   "execution_count": 72,
   "id": "26dc2309-f4f6-4e30-8406-d44d139be096",
   "metadata": {},
   "outputs": [
    {
     "name": "stdout",
     "output_type": "stream",
     "text": [
      "Donkey\n",
      "Monkey\n",
      "Panda\n",
      "Cat\n",
      "Dog\n"
     ]
    }
   ],
   "source": [
    "animals = [\"Donkey\", \"Monkey\", \"Panda\", \"Cat\", \"Dog\"]\n",
    "for i in animals:\n",
    "    print(i)"
   ]
  },
  {
   "cell_type": "code",
   "execution_count": 78,
   "id": "87f11de3-94bc-4f7b-85c3-bc9e6f93e9c0",
   "metadata": {},
   "outputs": [
    {
     "name": "stdout",
     "output_type": "stream",
     "text": [
      "<enumerate object at 0x00000205F7CC59E0>\n",
      "Index: 0, Item: apple\n",
      "0 apple\n",
      "Index: 1, Item: banana\n",
      "1 banana\n",
      "Index: 2, Item: cherry\n",
      "2 cherry\n"
     ]
    }
   ],
   "source": [
    "my_list = [\"apple\", \"banana\", \"cherry\"]\n",
    "print(enumerate(my_list))\n",
    "for index, item in enumerate(my_list):\n",
    "    print(f\"Index: {index}, Item: {item}\")\n",
    "    print('{} {}'.format(index, item))"
   ]
  },
  {
   "cell_type": "code",
   "execution_count": 79,
   "id": "81928def-95b6-4980-8207-5e126db4cdf7",
   "metadata": {},
   "outputs": [],
   "source": [
    "list2 = []"
   ]
  },
  {
   "cell_type": "code",
   "execution_count": 82,
   "id": "9e69b38c-95c4-4954-982b-9ce85258622a",
   "metadata": {},
   "outputs": [
    {
     "name": "stdout",
     "output_type": "stream",
     "text": [
      "4\n",
      "9\n",
      "16\n",
      "25\n",
      "36\n",
      "49\n"
     ]
    }
   ],
   "source": [
    "list1 = [2,3,4,5,6,7]\n",
    "\n",
    "for i in list1:\n",
    "    print(i ** 2)"
   ]
  },
  {
   "cell_type": "code",
   "execution_count": 83,
   "id": "f7a3a1be-be0b-4942-a858-9a4cb8822e7d",
   "metadata": {},
   "outputs": [],
   "source": [
    "for i in list1:\n",
    "    list2.append(i ** 2)"
   ]
  },
  {
   "cell_type": "code",
   "execution_count": 85,
   "id": "cc15c5eb-ced3-49f4-9ea4-04ad855662bb",
   "metadata": {},
   "outputs": [
    {
     "data": {
      "text/plain": [
       "[4, 9, 16, 25, 36, 49]"
      ]
     },
     "execution_count": 85,
     "metadata": {},
     "output_type": "execute_result"
    }
   ],
   "source": [
    "list2"
   ]
  },
  {
   "cell_type": "code",
   "execution_count": 86,
   "id": "bb677c72-e471-43d1-9207-fb352cd9bd89",
   "metadata": {},
   "outputs": [],
   "source": [
    "list4 = []"
   ]
  },
  {
   "cell_type": "code",
   "execution_count": 89,
   "id": "f7870a96-cae0-4f4f-996c-b79e7e35c56c",
   "metadata": {},
   "outputs": [],
   "source": [
    "list5 = []"
   ]
  },
  {
   "cell_type": "code",
   "execution_count": 87,
   "id": "ad781581-dab1-48ea-a262-19e7f843db94",
   "metadata": {},
   "outputs": [],
   "source": [
    "list3 = [1,2,3,4,5,6,7,8,9]\n",
    "for i in list3:\n",
    "    if i % 2 == 0:\n",
    "        list4.append(i)"
   ]
  },
  {
   "cell_type": "code",
   "execution_count": 95,
   "id": "53859c83-cd6a-4285-a226-6a49638c296b",
   "metadata": {},
   "outputs": [],
   "source": [
    "list3 = [1,2,3,4,5,6,7,8,9]\n",
    "for i in list3:\n",
    "    if i % 2 == 0:\n",
    "        list5.append(i**2)"
   ]
  },
  {
   "cell_type": "code",
   "execution_count": 96,
   "id": "d988bb91-1649-4d30-b584-b41a001443c4",
   "metadata": {},
   "outputs": [
    {
     "data": {
      "text/plain": [
       "[2, 4, 6, 8]"
      ]
     },
     "execution_count": 96,
     "metadata": {},
     "output_type": "execute_result"
    }
   ],
   "source": [
    "list4"
   ]
  },
  {
   "cell_type": "code",
   "execution_count": 97,
   "id": "6fad4c89-46e4-4d9e-a271-41fbe0434b15",
   "metadata": {},
   "outputs": [
    {
     "data": {
      "text/plain": [
       "[2, 4, 6, 8, 4, 16, 36, 64, 4, 16, 36, 64]"
      ]
     },
     "execution_count": 97,
     "metadata": {},
     "output_type": "execute_result"
    }
   ],
   "source": [
    "list5"
   ]
  },
  {
   "cell_type": "code",
   "execution_count": 98,
   "id": "95762967-741e-4404-9a52-1fdc1b3bfd46",
   "metadata": {},
   "outputs": [
    {
     "name": "stdout",
     "output_type": "stream",
     "text": [
      "[4, 16, 36, 64]\n"
     ]
    }
   ],
   "source": [
    "list6 = []\n",
    "\n",
    "even = [x ** 2 for x in list3 if x % 2 == 0]\n",
    "print(even)"
   ]
  },
  {
   "cell_type": "markdown",
   "id": "b085b846-247a-44ba-a281-5159fa0a808a",
   "metadata": {},
   "source": [
    "### Dictionaries"
   ]
  },
  {
   "cell_type": "code",
   "execution_count": 100,
   "id": "75992784-3286-4de6-ac51-d742d448ccfd",
   "metadata": {},
   "outputs": [],
   "source": [
    "person = {'name': 'Alice', 'age': 25}"
   ]
  },
  {
   "cell_type": "code",
   "execution_count": 101,
   "id": "85b38fdb-f767-40a0-bd43-9ebee43f98eb",
   "metadata": {},
   "outputs": [
    {
     "name": "stdout",
     "output_type": "stream",
     "text": [
      "True\n"
     ]
    }
   ],
   "source": [
    "print('name' in person) "
   ]
  },
  {
   "cell_type": "code",
   "execution_count": 102,
   "id": "fe699877-d47e-4134-92f8-b5a554d24f79",
   "metadata": {},
   "outputs": [],
   "source": [
    "person['city'] = 'New York'"
   ]
  },
  {
   "cell_type": "code",
   "execution_count": 103,
   "id": "a6462e34-1df4-46e6-b0e5-0b4584d52fa1",
   "metadata": {},
   "outputs": [
    {
     "data": {
      "text/plain": [
       "{'name': 'Alice', 'age': 25, 'city': 'New York'}"
      ]
     },
     "execution_count": 103,
     "metadata": {},
     "output_type": "execute_result"
    }
   ],
   "source": [
    "person"
   ]
  },
  {
   "cell_type": "code",
   "execution_count": 104,
   "id": "67deb2e0-f027-4bae-b5e8-055deab80f69",
   "metadata": {},
   "outputs": [
    {
     "name": "stdout",
     "output_type": "stream",
     "text": [
      "Alice\n"
     ]
    }
   ],
   "source": [
    "print(person.get('name'))"
   ]
  },
  {
   "cell_type": "code",
   "execution_count": 105,
   "id": "5dd7a689-92ab-44b8-989d-bcd7bf80df0c",
   "metadata": {},
   "outputs": [
    {
     "name": "stdout",
     "output_type": "stream",
     "text": [
      "None\n"
     ]
    }
   ],
   "source": [
    "print(person.get('country'))"
   ]
  },
  {
   "cell_type": "code",
   "execution_count": 127,
   "id": "fc2dcc76-7bae-4468-b4a8-2771d75de474",
   "metadata": {},
   "outputs": [],
   "source": [
    "l1 = [10,5,8,20,15]\n",
    "l2 = [5,5,5,5,5]"
   ]
  },
  {
   "cell_type": "code",
   "execution_count": 132,
   "id": "5ae2c413-6b0a-4e6f-864b-3c06fc7a8b95",
   "metadata": {},
   "outputs": [
    {
     "ename": "SyntaxError",
     "evalue": "invalid syntax (1582618529.py, line 1)",
     "output_type": "error",
     "traceback": [
      "\u001b[1;36m  Cell \u001b[1;32mIn[132], line 1\u001b[1;36m\u001b[0m\n\u001b[1;33m    def second_last(l1.sort()):\u001b[0m\n\u001b[1;37m                      ^\u001b[0m\n\u001b[1;31mSyntaxError\u001b[0m\u001b[1;31m:\u001b[0m invalid syntax\n"
     ]
    }
   ],
   "source": [
    "def second_last(l1):\n",
    "    for i in l1:\n",
    "        return l1[-2]"
   ]
  },
  {
   "cell_type": "code",
   "execution_count": 133,
   "id": "21b58f4a-b911-4aa1-970f-0b92250edd5f",
   "metadata": {},
   "outputs": [
    {
     "ename": "TypeError",
     "evalue": "'NoneType' object is not iterable",
     "output_type": "error",
     "traceback": [
      "\u001b[1;31m---------------------------------------------------------------------------\u001b[0m",
      "\u001b[1;31mTypeError\u001b[0m                                 Traceback (most recent call last)",
      "Cell \u001b[1;32mIn[133], line 1\u001b[0m\n\u001b[1;32m----> 1\u001b[0m \u001b[38;5;28mprint\u001b[39m(second_last(l1))\n",
      "Cell \u001b[1;32mIn[128], line 2\u001b[0m, in \u001b[0;36msecond_last\u001b[1;34m(l1)\u001b[0m\n\u001b[0;32m      1\u001b[0m \u001b[38;5;28;01mdef\u001b[39;00m\u001b[38;5;250m \u001b[39m\u001b[38;5;21msecond_last\u001b[39m(l1):\n\u001b[1;32m----> 2\u001b[0m     \u001b[38;5;28;01mfor\u001b[39;00m i \u001b[38;5;129;01min\u001b[39;00m l1\u001b[38;5;241m.\u001b[39msort():\n\u001b[0;32m      3\u001b[0m         \u001b[38;5;28;01mreturn\u001b[39;00m l1[\u001b[38;5;241m-\u001b[39m\u001b[38;5;241m2\u001b[39m]\n",
      "\u001b[1;31mTypeError\u001b[0m: 'NoneType' object is not iterable"
     ]
    }
   ],
   "source": [
    "print(second_last(l1))"
   ]
  },
  {
   "cell_type": "code",
   "execution_count": 134,
   "id": "f923b942-ca88-4b9a-a178-9578a5182e86",
   "metadata": {},
   "outputs": [],
   "source": [
    "dict = {'person': 2, 'cats': 4, 'spiders': 8}"
   ]
  },
  {
   "cell_type": "code",
   "execution_count": 116,
   "id": "268db44a-7272-4509-9537-4e9665322b2d",
   "metadata": {},
   "outputs": [
    {
     "name": "stdout",
     "output_type": "stream",
     "text": [
      "person has 2 legs\n",
      "cats has 4 legs\n",
      "spiders has 8 legs\n"
     ]
    }
   ],
   "source": [
    "for key, value in dict.items():\n",
    "    print('{} has {} legs'.format(key, value))"
   ]
  },
  {
   "cell_type": "code",
   "execution_count": 144,
   "id": "2f2c047e-f16b-4dff-addc-83bd383b883c",
   "metadata": {},
   "outputs": [
    {
     "name": "stdout",
     "output_type": "stream",
     "text": [
      "2\n",
      "3\n",
      "4\n",
      "5\n",
      "6\n"
     ]
    }
   ],
   "source": [
    "num = [2,3,4,5,6]\n",
    "dict = {}\n",
    "for i in num:\n",
    "    print(i)"
   ]
  },
  {
   "cell_type": "code",
   "execution_count": 145,
   "id": "dd2f95a3-e2c4-4adb-9a20-db6de8d42190",
   "metadata": {},
   "outputs": [],
   "source": [
    "nums = [0,1,2,3,4]\n",
    "even_square = {x: x ** 2 for x in nums if x % 2 == 0}\n"
   ]
  },
  {
   "cell_type": "code",
   "execution_count": 146,
   "id": "2e378499-6cfe-4b93-946c-c948ca446172",
   "metadata": {},
   "outputs": [
    {
     "name": "stdout",
     "output_type": "stream",
     "text": [
      "{0: 0, 2: 4, 4: 16}\n"
     ]
    }
   ],
   "source": [
    "print(even_square)"
   ]
  },
  {
   "cell_type": "markdown",
   "id": "4b6cd737-98f7-4791-bb7c-1c2bd889fd51",
   "metadata": {},
   "source": [
    "### Sets"
   ]
  },
  {
   "cell_type": "code",
   "execution_count": 147,
   "id": "c8555046-598a-43a2-aede-718e85f6c2d7",
   "metadata": {},
   "outputs": [],
   "source": [
    "fruits = {'apple', 'banana'}\n",
    "fruits.add('cherry')"
   ]
  },
  {
   "cell_type": "code",
   "execution_count": 148,
   "id": "cbedbd84-fbce-4e07-9873-23379f577f90",
   "metadata": {},
   "outputs": [
    {
     "name": "stdout",
     "output_type": "stream",
     "text": [
      "{'cherry', 'apple', 'banana'}\n"
     ]
    }
   ],
   "source": [
    "print(fruits)"
   ]
  },
  {
   "cell_type": "code",
   "execution_count": 149,
   "id": "4ae12d67-5ba6-4e8f-955c-7fa3aef14875",
   "metadata": {},
   "outputs": [
    {
     "name": "stdout",
     "output_type": "stream",
     "text": [
      "True\n"
     ]
    }
   ],
   "source": [
    "print('cherry' in fruits)"
   ]
  },
  {
   "cell_type": "code",
   "execution_count": 150,
   "id": "121311b7-524a-4bd7-a74c-4e57c73b345e",
   "metadata": {},
   "outputs": [
    {
     "data": {
      "text/plain": [
       "3"
      ]
     },
     "execution_count": 150,
     "metadata": {},
     "output_type": "execute_result"
    }
   ],
   "source": [
    "len(fruits)"
   ]
  },
  {
   "cell_type": "code",
   "execution_count": 158,
   "id": "9fec0686-9d61-4c78-8e47-0b7f6e9b93ad",
   "metadata": {},
   "outputs": [],
   "source": []
  },
  {
   "cell_type": "code",
   "execution_count": 159,
   "id": "e3a94481-95e6-4525-bbb3-a549dc38f9dd",
   "metadata": {},
   "outputs": [
    {
     "data": {
      "text/plain": [
       "{1: 'banana'}"
      ]
     },
     "execution_count": 159,
     "metadata": {},
     "output_type": "execute_result"
    }
   ],
   "source": [
    "set1"
   ]
  },
  {
   "cell_type": "code",
   "execution_count": 164,
   "id": "e0381731-75e0-452b-8123-b42a7c5a6caa",
   "metadata": {},
   "outputs": [
    {
     "name": "stdout",
     "output_type": "stream",
     "text": [
      "Index: 0, Item: cats\n",
      "1 : cats\n",
      "Index: 1, Item: dogs\n",
      "2 : dogs\n",
      "Index: 2, Item: fishes\n",
      "3 : fishes\n"
     ]
    }
   ],
   "source": [
    "animals = ['cats', 'dogs', 'fishes']\n",
    "for index, animal in enumerate(animals):\n",
    "    print(f\"Index: {index}, Item: {animal}\")\n",
    "    print('{} : {}'.format(index + 1, animal))"
   ]
  },
  {
   "cell_type": "code",
   "execution_count": 165,
   "id": "9f16243f-c396-4489-bc20-042bfa285572",
   "metadata": {},
   "outputs": [],
   "source": [
    "import math"
   ]
  },
  {
   "cell_type": "code",
   "execution_count": 166,
   "id": "cd9fa274-e7e1-4c3f-9ae2-1819dd5b9145",
   "metadata": {},
   "outputs": [],
   "source": [
    "from math import sqrt"
   ]
  },
  {
   "cell_type": "code",
   "execution_count": 167,
   "id": "8c704e07-cb8c-43ad-a1bd-53309f6daeaa",
   "metadata": {},
   "outputs": [
    {
     "data": {
      "text/plain": [
       "5.0"
      ]
     },
     "execution_count": 167,
     "metadata": {},
     "output_type": "execute_result"
    }
   ],
   "source": [
    "sqrt(25)"
   ]
  },
  {
   "cell_type": "code",
   "execution_count": 172,
   "id": "942205ca-6262-40e7-92e7-02dc142627b1",
   "metadata": {},
   "outputs": [
    {
     "ename": "_IncompleteInputError",
     "evalue": "incomplete input (3258226726.py, line 1)",
     "output_type": "error",
     "traceback": [
      "\u001b[1;36m  Cell \u001b[1;32mIn[172], line 1\u001b[1;36m\u001b[0m\n\u001b[1;33m    print(int(sqrt(x) for x in range(50))\u001b[0m\n\u001b[1;37m                                         ^\u001b[0m\n\u001b[1;31m_IncompleteInputError\u001b[0m\u001b[1;31m:\u001b[0m incomplete input\n"
     ]
    }
   ],
   "source": [
    "print(int(sqrt(x) for x in range(50))"
   ]
  },
  {
   "cell_type": "code",
   "execution_count": 173,
   "id": "4b646ea5-fdbd-4e07-a1b5-72147fb43c7a",
   "metadata": {},
   "outputs": [],
   "source": [
    "result = [int(sqrt(x)) for x in range(50)]"
   ]
  },
  {
   "cell_type": "markdown",
   "id": "07cba9cd-116c-41a5-9709-204ded65d01d",
   "metadata": {},
   "source": [
    "### Tuples"
   ]
  },
  {
   "cell_type": "code",
   "execution_count": 174,
   "id": "890ceb2b-593f-40f0-a1de-05988493abc5",
   "metadata": {},
   "outputs": [
    {
     "data": {
      "text/plain": [
       "tuple"
      ]
     },
     "execution_count": 174,
     "metadata": {},
     "output_type": "execute_result"
    }
   ],
   "source": [
    "a = (5, 6)\n",
    "type(a)"
   ]
  },
  {
   "cell_type": "code",
   "execution_count": 175,
   "id": "553ca70f-c933-4010-a2ef-661d20bdfae4",
   "metadata": {},
   "outputs": [
    {
     "ename": "TypeError",
     "evalue": "'tuple' object does not support item assignment",
     "output_type": "error",
     "traceback": [
      "\u001b[1;31m---------------------------------------------------------------------------\u001b[0m",
      "\u001b[1;31mTypeError\u001b[0m                                 Traceback (most recent call last)",
      "Cell \u001b[1;32mIn[175], line 1\u001b[0m\n\u001b[1;32m----> 1\u001b[0m a[\u001b[38;5;241m0\u001b[39m] \u001b[38;5;241m=\u001b[39m \u001b[38;5;241m10\u001b[39m\n",
      "\u001b[1;31mTypeError\u001b[0m: 'tuple' object does not support item assignment"
     ]
    }
   ],
   "source": [
    "a[0] = 10"
   ]
  },
  {
   "cell_type": "code",
   "execution_count": 176,
   "id": "d98a3c60-a2ee-4ca9-8f9b-b1587b2504cf",
   "metadata": {},
   "outputs": [
    {
     "name": "stdout",
     "output_type": "stream",
     "text": [
      "5\n"
     ]
    }
   ],
   "source": [
    "print(a[0])"
   ]
  },
  {
   "cell_type": "code",
   "execution_count": 177,
   "id": "cbf60363-7ca7-4688-9d21-091ff0386d3b",
   "metadata": {},
   "outputs": [
    {
     "data": {
      "text/plain": [
       "0"
      ]
     },
     "execution_count": 177,
     "metadata": {},
     "output_type": "execute_result"
    }
   ],
   "source": [
    "a.count(4)"
   ]
  },
  {
   "cell_type": "code",
   "execution_count": 178,
   "id": "98aea783-b5b6-4804-8988-87c9985d21b9",
   "metadata": {},
   "outputs": [],
   "source": [
    "d = {(x, x + 1): x for x in range(50)}"
   ]
  },
  {
   "cell_type": "code",
   "execution_count": 179,
   "id": "65655dab-5a41-4043-8fcc-a7cc7343c471",
   "metadata": {},
   "outputs": [
    {
     "name": "stdout",
     "output_type": "stream",
     "text": [
      "{(0, 1): 0, (1, 2): 1, (2, 3): 2, (3, 4): 3, (4, 5): 4, (5, 6): 5, (6, 7): 6, (7, 8): 7, (8, 9): 8, (9, 10): 9, (10, 11): 10, (11, 12): 11, (12, 13): 12, (13, 14): 13, (14, 15): 14, (15, 16): 15, (16, 17): 16, (17, 18): 17, (18, 19): 18, (19, 20): 19, (20, 21): 20, (21, 22): 21, (22, 23): 22, (23, 24): 23, (24, 25): 24, (25, 26): 25, (26, 27): 26, (27, 28): 27, (28, 29): 28, (29, 30): 29, (30, 31): 30, (31, 32): 31, (32, 33): 32, (33, 34): 33, (34, 35): 34, (35, 36): 35, (36, 37): 36, (37, 38): 37, (38, 39): 38, (39, 40): 39, (40, 41): 40, (41, 42): 41, (42, 43): 42, (43, 44): 43, (44, 45): 44, (45, 46): 45, (46, 47): 46, (47, 48): 47, (48, 49): 48, (49, 50): 49}\n"
     ]
    }
   ],
   "source": [
    "print(d)"
   ]
  },
  {
   "cell_type": "code",
   "execution_count": 183,
   "id": "244bb6ce-39d7-442e-b393-23c2b28b1773",
   "metadata": {},
   "outputs": [
    {
     "data": {
      "text/plain": [
       "dict"
      ]
     },
     "execution_count": 183,
     "metadata": {},
     "output_type": "execute_result"
    }
   ],
   "source": [
    "type(d)"
   ]
  },
  {
   "cell_type": "code",
   "execution_count": 188,
   "id": "ff357126-dcf7-4395-890e-18b101a4966f",
   "metadata": {},
   "outputs": [
    {
     "name": "stdout",
     "output_type": "stream",
     "text": [
      "0 1\n",
      "1 2\n",
      "2 3\n",
      "3 4\n",
      "4 5\n",
      "5 6\n",
      "6 7\n",
      "7 8\n",
      "8 9\n",
      "9 10\n",
      "10 11\n",
      "11 12\n",
      "12 13\n",
      "13 14\n",
      "14 15\n",
      "15 16\n",
      "16 17\n",
      "17 18\n",
      "18 19\n",
      "19 20\n",
      "20 21\n",
      "21 22\n",
      "22 23\n",
      "23 24\n",
      "24 25\n",
      "25 26\n",
      "26 27\n",
      "27 28\n",
      "28 29\n",
      "29 30\n",
      "30 31\n",
      "31 32\n",
      "32 33\n",
      "33 34\n",
      "34 35\n",
      "35 36\n",
      "36 37\n",
      "37 38\n",
      "38 39\n",
      "39 40\n",
      "40 41\n",
      "41 42\n",
      "42 43\n",
      "43 44\n",
      "44 45\n",
      "45 46\n",
      "46 47\n",
      "47 48\n",
      "48 49\n",
      "49 50\n"
     ]
    }
   ],
   "source": [
    "for key , value in d:\n",
    "    print(key, value)"
   ]
  },
  {
   "cell_type": "code",
   "execution_count": null,
   "id": "99072893-88fe-41c7-944b-b88ee0e1923e",
   "metadata": {},
   "outputs": [],
   "source": []
  },
  {
   "cell_type": "markdown",
   "id": "839ea1dc-48df-4b6c-bb87-c54e543c59c0",
   "metadata": {},
   "source": [
    "### Functions"
   ]
  },
  {
   "cell_type": "code",
   "execution_count": 184,
   "id": "923f5780-f28c-494c-8d87-680dc0b394f0",
   "metadata": {},
   "outputs": [],
   "source": [
    "def sign(x):\n",
    "    if x > 0:\n",
    "        return 'Positive'\n",
    "    elif x < 0:\n",
    "        return 'Negative'\n",
    "    else:\n",
    "        return 'Zero'"
   ]
  },
  {
   "cell_type": "code",
   "execution_count": 185,
   "id": "b8c1679f-1968-4876-abd2-5b276e9e98db",
   "metadata": {},
   "outputs": [
    {
     "name": "stdout",
     "output_type": "stream",
     "text": [
      "Positive\n"
     ]
    }
   ],
   "source": [
    "print(sign(5))"
   ]
  },
  {
   "cell_type": "code",
   "execution_count": 189,
   "id": "5e7abe70-74c1-4eca-b6d4-55b38e930077",
   "metadata": {},
   "outputs": [],
   "source": [
    "x = [-2, -1 , 0 , 1, 2]"
   ]
  },
  {
   "cell_type": "code",
   "execution_count": 190,
   "id": "7fb8cc95-ed8d-438c-b234-410680e33d6a",
   "metadata": {},
   "outputs": [
    {
     "name": "stdout",
     "output_type": "stream",
     "text": [
      "Negative\n",
      "Negative\n",
      "Zero\n",
      "Positive\n",
      "Positive\n"
     ]
    }
   ],
   "source": [
    "for i in x:\n",
    "    print(sign(i))"
   ]
  },
  {
   "cell_type": "code",
   "execution_count": 192,
   "id": "7111020d-ea07-476c-aa7d-9f64a9f900a9",
   "metadata": {},
   "outputs": [],
   "source": [
    "l1 = [10,5,8,20,15]\n",
    "\n",
    "def second_max\n",
    "max_number = l1[0]\n",
    "\n",
    "for i in range(len(l1)):\n",
    "    if i > max_number:\n",
    "        arr[i], arr[max_number] = arr[max_number], arr[i]"
   ]
  },
  {
   "cell_type": "code",
   "execution_count": null,
   "id": "b69e9e8a-3eb6-43d7-9de6-cfb51bcee6bb",
   "metadata": {},
   "outputs": [],
   "source": []
  },
  {
   "cell_type": "code",
   "execution_count": 193,
   "id": "5387a24c-ec5a-4e20-a5b5-8d33f34bbf5b",
   "metadata": {},
   "outputs": [],
   "source": [
    "def hello(name, loud = False):\n",
    "    if loud:\n",
    "        print(\"HELLO, {}\".format(name.upper()))\n",
    "    else:\n",
    "        print('Hello, {}'.format(name))"
   ]
  },
  {
   "cell_type": "code",
   "execution_count": 194,
   "id": "8823f9cc-0222-44c0-807e-5e633972d2ff",
   "metadata": {},
   "outputs": [
    {
     "name": "stdout",
     "output_type": "stream",
     "text": [
      "Hello, uday\n"
     ]
    }
   ],
   "source": [
    "hello('uday')"
   ]
  },
  {
   "cell_type": "code",
   "execution_count": 205,
   "id": "ec2c2d22-5552-4b4c-8365-e5f25a619d5d",
   "metadata": {},
   "outputs": [],
   "source": [
    "a = 'hello'"
   ]
  },
  {
   "cell_type": "code",
   "execution_count": 206,
   "id": "4d0ec4dc-292e-489c-9783-73aed4693074",
   "metadata": {},
   "outputs": [
    {
     "ename": "SyntaxError",
     "evalue": "expected ':' (2413692963.py, line 4)",
     "output_type": "error",
     "traceback": [
      "\u001b[1;36m  Cell \u001b[1;32mIn[206], line 4\u001b[1;36m\u001b[0m\n\u001b[1;33m    else a == a.upper():\u001b[0m\n\u001b[1;37m         ^\u001b[0m\n\u001b[1;31mSyntaxError\u001b[0m\u001b[1;31m:\u001b[0m expected ':'\n"
     ]
    }
   ],
   "source": [
    "def find(a):\n",
    "    if a == a.capitalize():\n",
    "        print(\"Capital\")\n",
    "    else a == a.upper():\n",
    "        print(\"Upper\")\n",
    "    elif a == a.lower():\n",
    "        print(\"Lower\")"
   ]
  },
  {
   "cell_type": "code",
   "execution_count": null,
   "id": "2ddf7532-5f42-453e-892c-28e48704d430",
   "metadata": {},
   "outputs": [],
   "source": []
  },
  {
   "cell_type": "code",
   "execution_count": 202,
   "id": "f5bb2e8f-1346-460e-97cc-d2fe45872e73",
   "metadata": {},
   "outputs": [],
   "source": [
    "def find(a):\n",
    "    u=a.upper()\n",
    "    l=a.lower()\n",
    "    if a == u:\n",
    "        print(\"Upper\")\n",
    "    elif a == l:\n",
    "        print(\"Lower\")\n",
    "    else:\n",
    "        print(\"Capital\")\n",
    "    "
   ]
  },
  {
   "cell_type": "code",
   "execution_count": 199,
   "id": "1752cd22-bb75-433d-b288-e247e3dc33a9",
   "metadata": {},
   "outputs": [],
   "source": [
    "def find(a):\n",
    "    if a.isupper():\n",
    "        print(\"Upper\")\n",
    "    elif a.islower():\n",
    "        print(\"Lower\")\n",
    "    elif a.istitle():  # Checks if string is in title case (first letter capitalized)\n",
    "        print(\"Capital\")\n",
    "    else:\n",
    "        print(\"Mixed case\")"
   ]
  },
  {
   "cell_type": "code",
   "execution_count": 204,
   "id": "8552ee23-7594-43a9-98a6-966d3689f556",
   "metadata": {},
   "outputs": [
    {
     "name": "stdout",
     "output_type": "stream",
     "text": [
      "Upper\n"
     ]
    }
   ],
   "source": [
    "find('HELLO')"
   ]
  },
  {
   "cell_type": "code",
   "execution_count": 207,
   "id": "5319456b-807d-4dc3-8b71-a81f59d90bfb",
   "metadata": {},
   "outputs": [
    {
     "name": "stdout",
     "output_type": "stream",
     "text": [
      "After local assignment: test spam\n",
      "After nonlocal assignment: nonlocal spam\n",
      "After global assignment: nonlocal spam\n",
      "In global scope: global spam\n"
     ]
    }
   ],
   "source": [
    "def scope_test():\n",
    "    def do_local():\n",
    "        spam = \"local spam\"\n",
    "\n",
    "    def do_nonlocal():\n",
    "        nonlocal spam\n",
    "        spam = \"nonlocal spam\"\n",
    "\n",
    "    def do_global():\n",
    "        global spam\n",
    "        spam = \"global spam\"\n",
    "\n",
    "    spam = \"test spam\"\n",
    "    do_local()\n",
    "    print(\"After local assignment:\", spam)\n",
    "    do_nonlocal()\n",
    "    print(\"After nonlocal assignment:\", spam)\n",
    "    do_global()\n",
    "    print(\"After global assignment:\", spam)\n",
    "\n",
    "scope_test()\n",
    "print(\"In global scope:\", spam)"
   ]
  },
  {
   "cell_type": "markdown",
   "id": "2570626b-c65d-4b24-9f97-ff41bc86592c",
   "metadata": {},
   "source": [
    "## Class"
   ]
  },
  {
   "cell_type": "code",
   "execution_count": 215,
   "id": "eb597030-b9c7-4fe2-add7-4197d633bb94",
   "metadata": {},
   "outputs": [],
   "source": [
    "class greeter:\n",
    "    def __init__(self, name):   ## Constructor\n",
    "        self.name = name       ## Instance Variable\n",
    "    def greet(self, loud = False):\n",
    "        if loud:\n",
    "            print(\"HELLO, {}\".format(self.name.upper()))\n",
    "        else:\n",
    "            print('Hello, {}'.format(self.name))\n",
    "        "
   ]
  },
  {
   "cell_type": "code",
   "execution_count": 218,
   "id": "8f8809b8-d3ef-4acf-9356-2a34448fc87d",
   "metadata": {},
   "outputs": [
    {
     "name": "stdout",
     "output_type": "stream",
     "text": [
      "Hello, Gaurav\n"
     ]
    }
   ],
   "source": [
    "G = greeter('Gaurav')\n",
    "G.greet()"
   ]
  },
  {
   "cell_type": "code",
   "execution_count": 217,
   "id": "94d76e14-af1e-4dee-bf38-74a34a740c99",
   "metadata": {},
   "outputs": [
    {
     "name": "stdout",
     "output_type": "stream",
     "text": [
      "Hello, Gaurav\n",
      "None\n"
     ]
    }
   ],
   "source": [
    "print(a.greet())"
   ]
  },
  {
   "cell_type": "code",
   "execution_count": 219,
   "id": "6c09c695-22b9-41cc-af5b-6d6bda1c355e",
   "metadata": {},
   "outputs": [
    {
     "name": "stdout",
     "output_type": "stream",
     "text": [
      "HELLO, GAURAV\n"
     ]
    }
   ],
   "source": [
    "G.greet(loud = True)"
   ]
  },
  {
   "cell_type": "code",
   "execution_count": null,
   "id": "3e44e3d2-1999-43f3-8824-4f01cd161ef6",
   "metadata": {},
   "outputs": [],
   "source": []
  },
  {
   "cell_type": "code",
   "execution_count": 229,
   "id": "d7b99278-f9bb-459e-bce1-81ddc8c356bb",
   "metadata": {},
   "outputs": [],
   "source": [
    "class greeter:\n",
    "    def __init__(self, name, age):   ## Constructor\n",
    "        self.name = name\n",
    "        self.age = age\n",
    "    def greet(self):\n",
    "        print(\"HELLO, {} your age is {}\".format(self.name, self.age))"
   ]
  },
  {
   "cell_type": "code",
   "execution_count": 230,
   "id": "4107232a-e04d-4bbd-b496-91cbdb420641",
   "metadata": {},
   "outputs": [
    {
     "name": "stdout",
     "output_type": "stream",
     "text": [
      "HELLO, Alice your age is 25\n"
     ]
    }
   ],
   "source": [
    "person = greeter(\"Alice\", 25)\n",
    "person.greet()"
   ]
  },
  {
   "cell_type": "code",
   "execution_count": null,
   "id": "2c47fba5-e644-45b6-90a1-cb58fd2b2420",
   "metadata": {},
   "outputs": [],
   "source": []
  }
 ],
 "metadata": {
  "kernelspec": {
   "display_name": "Python [conda env:base] *",
   "language": "python",
   "name": "conda-base-py"
  },
  "language_info": {
   "codemirror_mode": {
    "name": "ipython",
    "version": 3
   },
   "file_extension": ".py",
   "mimetype": "text/x-python",
   "name": "python",
   "nbconvert_exporter": "python",
   "pygments_lexer": "ipython3",
   "version": "3.13.5"
  }
 },
 "nbformat": 4,
 "nbformat_minor": 5
}
