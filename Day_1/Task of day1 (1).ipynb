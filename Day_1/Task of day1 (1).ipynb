{
 "cells": [
  {
   "cell_type": "markdown",
   "id": "e144c38d-760f-40bd-a879-182d3e2c40fb",
   "metadata": {},
   "source": [
    "## Basics of Python\n",
    "\n",
    "1. Write a python program to find the freq of each word in a given paragraph"
   ]
  },
  {
   "cell_type": "code",
   "execution_count": 4,
   "id": "282a4ca9-0691-48e1-b99b-f9430b66f289",
   "metadata": {},
   "outputs": [],
   "source": [
    "from collections import Counter"
   ]
  },
  {
   "cell_type": "code",
   "execution_count": 13,
   "id": "c6d9acb3-c61c-4e9c-90ab-4e9ac315277a",
   "metadata": {},
   "outputs": [],
   "source": [
    "A = 'Hello my name is gaurav. I am doing an assignment on Python Programming. Hello Hello Hello'"
   ]
  },
  {
   "cell_type": "code",
   "execution_count": 14,
   "id": "825656e9-d1ff-499d-a19b-9b6ecd065d60",
   "metadata": {},
   "outputs": [],
   "source": [
    "B = A.split()"
   ]
  },
  {
   "cell_type": "code",
   "execution_count": 15,
   "id": "1bd63f81-ed9d-469f-8757-205ec5887474",
   "metadata": {},
   "outputs": [
    {
     "name": "stdout",
     "output_type": "stream",
     "text": [
      "['Hello', 'my', 'name', 'is', 'gaurav.', 'I', 'am', 'doing', 'an', 'assignment', 'on', 'Python', 'Programming.', 'Hello', 'Hello', 'Hello']\n"
     ]
    }
   ],
   "source": [
    "print(B)"
   ]
  },
  {
   "cell_type": "code",
   "execution_count": 16,
   "id": "c381880f-ede2-4c82-b75d-169a627119ba",
   "metadata": {},
   "outputs": [
    {
     "data": {
      "text/plain": [
       "Counter({'Hello': 4,\n",
       "         'my': 1,\n",
       "         'name': 1,\n",
       "         'is': 1,\n",
       "         'gaurav.': 1,\n",
       "         'I': 1,\n",
       "         'am': 1,\n",
       "         'doing': 1,\n",
       "         'an': 1,\n",
       "         'assignment': 1,\n",
       "         'on': 1,\n",
       "         'Python': 1,\n",
       "         'Programming.': 1})"
      ]
     },
     "execution_count": 16,
     "metadata": {},
     "output_type": "execute_result"
    }
   ],
   "source": [
    "Counter(B)"
   ]
  },
  {
   "cell_type": "markdown",
   "id": "c86335ed-0114-4982-a4e4-ea5c191c236d",
   "metadata": {},
   "source": [
    "## Create a list of tuples containing students names and marks. sort the list in descending orders of marks using lamda"
   ]
  },
  {
   "cell_type": "code",
   "execution_count": 18,
   "id": "b26a052e-9423-4362-bb1f-19ebd06b6eaa",
   "metadata": {},
   "outputs": [],
   "source": [
    "a = (2,3,4)"
   ]
  },
  {
   "cell_type": "code",
   "execution_count": 19,
   "id": "ae8c7b5a-52d5-4ced-aae2-de23cb637ff6",
   "metadata": {},
   "outputs": [
    {
     "name": "stdout",
     "output_type": "stream",
     "text": [
      "(2, 3, 4)\n"
     ]
    }
   ],
   "source": [
    "print(a)"
   ]
  },
  {
   "cell_type": "code",
   "execution_count": 78,
   "id": "fb558db3-31f5-4d94-9b79-70411ceabac4",
   "metadata": {},
   "outputs": [
    {
     "name": "stdout",
     "output_type": "stream",
     "text": [
      "[('Manoj', 24), ('Gaurav', 30), ('Yash', 34)]\n"
     ]
    }
   ],
   "source": [
    "a = [(\"Gaurav\" , 30 ),(\"Manoj\", 24),(\"Yash\", 34)]\n",
    "a = sorted(a, key = lambda x:x[1])\n",
    "print(a)"
   ]
  },
  {
   "cell_type": "code",
   "execution_count": 84,
   "id": "ac0ed84b-2f3b-49cb-b395-9a6635e98a62",
   "metadata": {},
   "outputs": [],
   "source": [
    "import numpy as np\n",
    "import pandas as pd"
   ]
  },
  {
   "cell_type": "markdown",
   "id": "d9913733-aea3-4b25-a283-657ce171c79e",
   "metadata": {},
   "source": [
    "## Write a program to flatten a nested list using recursion\n",
    "\n",
    "## [1,[2,3,[4,5],6],7] = [1,2,3,4,5,6,7]"
   ]
  },
  {
   "cell_type": "code",
   "execution_count": 87,
   "id": "348a3a77-0ca1-4d5b-9cb7-5048ceec7941",
   "metadata": {},
   "outputs": [],
   "source": [
    "import numpy as np\n",
    "list1 = [1,[2,3,[4,5],6],7]"
   ]
  },
  {
   "cell_type": "code",
   "execution_count": 99,
   "id": "6e7af54b-6b5e-46e0-9df6-9a3ea95f8b51",
   "metadata": {},
   "outputs": [],
   "source": [
    "string = str(list1)"
   ]
  },
  {
   "cell_type": "code",
   "execution_count": 100,
   "id": "081174c4-db25-45bb-abcd-7343bd6238ca",
   "metadata": {},
   "outputs": [
    {
     "data": {
      "text/plain": [
       "'[1, [2, 3, [4, 5], 6], 7]'"
      ]
     },
     "execution_count": 100,
     "metadata": {},
     "output_type": "execute_result"
    }
   ],
   "source": [
    "string"
   ]
  },
  {
   "cell_type": "code",
   "execution_count": 102,
   "id": "f644d050-506f-4ed2-b30f-f3988aee9496",
   "metadata": {},
   "outputs": [
    {
     "data": {
      "text/plain": [
       "['[1,', '[2,', '3,', '[4,', '5],', '6],', '7]']"
      ]
     },
     "execution_count": 102,
     "metadata": {},
     "output_type": "execute_result"
    }
   ],
   "source": [
    "b = string.split()\n",
    "b"
   ]
  },
  {
   "cell_type": "code",
   "execution_count": 104,
   "id": "909123f5-4005-451f-aacc-4d4f599b9675",
   "metadata": {},
   "outputs": [
    {
     "name": "stdout",
     "output_type": "stream",
     "text": [
      "[1,\n",
      "[2,\n",
      "3,\n",
      "[4,\n",
      "5],\n",
      "6],\n",
      "7]\n"
     ]
    }
   ],
   "source": [
    "def flatten(nested_list):\n",
    "    result = []\n",
    "    for item in nested_list:\n",
    "        if isinstance(item, list):\n",
    "            result.extend(flatten(item))\n",
    "        else:\n",
    "            result.append(item)\n",
    "    return result"
   ]
  },
  {
   "cell_type": "code",
   "execution_count": null,
   "id": "2fe6ed6b-8d0f-4f5a-80fa-11155e117697",
   "metadata": {},
   "outputs": [],
   "source": []
  }
 ],
 "metadata": {
  "kernelspec": {
   "display_name": "Python [conda env:base] *",
   "language": "python",
   "name": "conda-base-py"
  },
  "language_info": {
   "codemirror_mode": {
    "name": "ipython",
    "version": 3
   },
   "file_extension": ".py",
   "mimetype": "text/x-python",
   "name": "python",
   "nbconvert_exporter": "python",
   "pygments_lexer": "ipython3",
   "version": "3.13.5"
  }
 },
 "nbformat": 4,
 "nbformat_minor": 5
}
